{
 "cells": [
  {
   "cell_type": "markdown",
   "metadata": {},
   "source": [
    "Module import"
   ]
  },
  {
   "cell_type": "code",
   "execution_count": 1,
   "metadata": {},
   "outputs": [],
   "source": [
    "import torch\n",
    "import torch.nn as nn\n",
    "import torch.nn.functional as F\n",
    "import torch.optim as optim"
   ]
  },
  {
   "cell_type": "markdown",
   "metadata": {},
   "source": [
    "Random Seed 생성"
   ]
  },
  {
   "cell_type": "code",
   "execution_count": 2,
   "metadata": {},
   "outputs": [
    {
     "data": {
      "text/plain": [
       "<torch._C.Generator at 0x29fc56b8d10>"
      ]
     },
     "execution_count": 2,
     "metadata": {},
     "output_type": "execute_result"
    }
   ],
   "source": [
    "torch.manual_seed(1)"
   ]
  },
  {
   "cell_type": "markdown",
   "metadata": {},
   "source": [
    "training data 생성"
   ]
  },
  {
   "cell_type": "code",
   "execution_count": 3,
   "metadata": {},
   "outputs": [],
   "source": [
    "x_train = torch.FloatTensor([[1],[2],[3]])\n",
    "y_train = torch.FloatTensor([[2],[4],[6]])"
   ]
  },
  {
   "cell_type": "markdown",
   "metadata": {},
   "source": [
    "Model initailizing"
   ]
  },
  {
   "cell_type": "code",
   "execution_count": 4,
   "metadata": {},
   "outputs": [],
   "source": [
    "W = torch.zeros(1, requires_grad=True)\n",
    "b = torch.zeros(1, requires_grad=True)"
   ]
  },
  {
   "cell_type": "markdown",
   "metadata": {},
   "source": [
    "Optimizer setting"
   ]
  },
  {
   "cell_type": "code",
   "execution_count": 5,
   "metadata": {},
   "outputs": [],
   "source": [
    "optimizer = optim.SGD([W, b], lr=0.01)"
   ]
  },
  {
   "cell_type": "markdown",
   "metadata": {},
   "source": [
    "Epochs"
   ]
  },
  {
   "cell_type": "code",
   "execution_count": 7,
   "metadata": {},
   "outputs": [
    {
     "name": "stdout",
     "output_type": "stream",
     "text": [
      "Epoch    0/2000 W: 0.187 Cost: 0.080000\n",
      "Epoch  100/2000 W: 1.746 Cost: 0.578072\n",
      "Epoch  200/2000 W: 1.800 Cost: 0.454421\n",
      "Epoch  300/2000 W: 1.843 Cost: 0.357217\n",
      "Epoch  400/2000 W: 1.876 Cost: 0.280805\n",
      "Epoch  500/2000 W: 1.903 Cost: 0.220738\n",
      "Epoch  600/2000 W: 1.924 Cost: 0.173520\n",
      "Epoch  700/2000 W: 1.940 Cost: 0.136403\n",
      "Epoch  800/2000 W: 1.953 Cost: 0.107225\n",
      "Epoch  900/2000 W: 1.963 Cost: 0.084289\n",
      "Epoch 1000/2000 W: 1.971 Cost: 0.066259\n",
      "Epoch 1100/2000 W: 1.977 Cost: 0.052085\n",
      "Epoch 1200/2000 W: 1.982 Cost: 0.040944\n",
      "Epoch 1300/2000 W: 1.986 Cost: 0.032185\n",
      "Epoch 1400/2000 W: 1.989 Cost: 0.025301\n",
      "Epoch 1500/2000 W: 1.991 Cost: 0.019889\n",
      "Epoch 1600/2000 W: 1.993 Cost: 0.015634\n",
      "Epoch 1700/2000 W: 1.995 Cost: 0.012290\n",
      "Epoch 1800/2000 W: 1.996 Cost: 0.009661\n",
      "Epoch 1900/2000 W: 1.997 Cost: 0.007595\n",
      "Epoch 2000/2000 W: 1.997 Cost: 0.005970\n"
     ]
    }
   ],
   "source": [
    "nb_epochs = 2000\n",
    "for epoch in range(nb_epochs+1):\n",
    "    \n",
    "    hypothesis = x_train*W + b\n",
    "    cost = torch.mean((hypothesis - y_train)**2)\n",
    "    optimizer.zero_grad()\n",
    "    cost.backward()\n",
    "    optimizer.step()\n",
    "    \n",
    "    if epoch % 100 == 0:\n",
    "        print('Epoch {:4d}/{} W: {:.3f} Cost: {:.6f}'.format(\n",
    "             epoch, nb_epochs, W.item(), b.item(), cost.item()\n",
    "             ))"
   ]
  },
  {
   "cell_type": "code",
   "execution_count": null,
   "metadata": {},
   "outputs": [],
   "source": []
  }
 ],
 "metadata": {
  "kernelspec": {
   "display_name": "Python 3",
   "language": "python",
   "name": "python3"
  },
  "language_info": {
   "codemirror_mode": {
    "name": "ipython",
    "version": 3
   },
   "file_extension": ".py",
   "mimetype": "text/x-python",
   "name": "python",
   "nbconvert_exporter": "python",
   "pygments_lexer": "ipython3",
   "version": "3.7.6"
  }
 },
 "nbformat": 4,
 "nbformat_minor": 4
}
