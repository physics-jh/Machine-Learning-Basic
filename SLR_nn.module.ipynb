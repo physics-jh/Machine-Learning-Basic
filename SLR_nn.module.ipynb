{
 "cells": [
  {
   "cell_type": "code",
   "execution_count": 1,
   "metadata": {},
   "outputs": [],
   "source": [
    "import torch\n",
    "import torch.nn as nn\n",
    "import torch.nn.functional as F\n",
    "import torch.optim as optim"
   ]
  },
  {
   "cell_type": "code",
   "execution_count": 2,
   "metadata": {},
   "outputs": [
    {
     "data": {
      "text/plain": [
       "<torch._C.Generator at 0x20014519d10>"
      ]
     },
     "execution_count": 2,
     "metadata": {},
     "output_type": "execute_result"
    }
   ],
   "source": [
    "torch.manual_seed(1)"
   ]
  },
  {
   "cell_type": "code",
   "execution_count": 3,
   "metadata": {},
   "outputs": [],
   "source": [
    "x_train = torch.FloatTensor([[1],[2],[3]])\n",
    "y_train = torch.FloatTensor([[2],[4],[6]])"
   ]
  },
  {
   "cell_type": "code",
   "execution_count": 4,
   "metadata": {},
   "outputs": [],
   "source": [
    "model = nn.Linear(1,1)"
   ]
  },
  {
   "cell_type": "code",
   "execution_count": 5,
   "metadata": {},
   "outputs": [],
   "source": [
    "optimizer = optim.SGD(model.parameters(), lr=0.01)"
   ]
  },
  {
   "cell_type": "code",
   "execution_count": 8,
   "metadata": {},
   "outputs": [
    {
     "name": "stdout",
     "output_type": "stream",
     "text": [
      "Epoch    0/2000 Cost:10.358571\n",
      "Epoch  100/2000 Cost:0.002777\n",
      "Epoch  200/2000 Cost:0.001716\n",
      "Epoch  300/2000 Cost:0.001060\n",
      "Epoch  400/2000 Cost:0.000655\n",
      "Epoch  500/2000 Cost:0.000405\n",
      "Epoch  600/2000 Cost:0.000250\n",
      "Epoch  700/2000 Cost:0.000155\n",
      "Epoch  800/2000 Cost:0.000096\n",
      "Epoch  900/2000 Cost:0.000059\n",
      "Epoch 1000/2000 Cost:0.000036\n",
      "Epoch 1100/2000 Cost:0.000023\n",
      "Epoch 1200/2000 Cost:0.000014\n",
      "Epoch 1300/2000 Cost:0.000009\n",
      "Epoch 1400/2000 Cost:0.000005\n",
      "Epoch 1500/2000 Cost:0.000003\n",
      "Epoch 1600/2000 Cost:0.000002\n",
      "Epoch 1700/2000 Cost:0.000001\n",
      "Epoch 1800/2000 Cost:0.000001\n",
      "Epoch 1900/2000 Cost:0.000000\n",
      "Epoch 2000/2000 Cost:0.000000\n"
     ]
    }
   ],
   "source": [
    "nb_epochs = 2000\n",
    "for epoch in range(nb_epochs+1):\n",
    "    prediction = model(x_train)\n",
    "    cost = F.mse_loss(prediction, y_train)\n",
    "    optimizer.zero_grad()\n",
    "    cost.backward()\n",
    "    optimizer.step()\n",
    "    if epoch % 100 == 0:\n",
    "        print('Epoch {:4d}/{} Cost:{:.6f}'.format(\n",
    "            epoch, nb_epochs, cost.item()\n",
    "        ))"
   ]
  },
  {
   "cell_type": "code",
   "execution_count": null,
   "metadata": {},
   "outputs": [],
   "source": []
  }
 ],
 "metadata": {
  "kernelspec": {
   "display_name": "Python 3",
   "language": "python",
   "name": "python3"
  },
  "language_info": {
   "codemirror_mode": {
    "name": "ipython",
    "version": 3
   },
   "file_extension": ".py",
   "mimetype": "text/x-python",
   "name": "python",
   "nbconvert_exporter": "python",
   "pygments_lexer": "ipython3",
   "version": "3.7.6"
  }
 },
 "nbformat": 4,
 "nbformat_minor": 4
}
