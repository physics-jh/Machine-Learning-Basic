{
 "cells": [
  {
   "cell_type": "code",
   "execution_count": 1,
   "metadata": {},
   "outputs": [],
   "source": [
    "import torch\n",
    "import torch.nn as nn\n",
    "import torch.nn.functional as F\n",
    "import torch.optim as optim"
   ]
  },
  {
   "cell_type": "code",
   "execution_count": 2,
   "metadata": {},
   "outputs": [
    {
     "data": {
      "text/plain": [
       "<torch._C.Generator at 0x20140c3dd30>"
      ]
     },
     "execution_count": 2,
     "metadata": {},
     "output_type": "execute_result"
    }
   ],
   "source": [
    "torch.manual_seed(1)"
   ]
  },
  {
   "cell_type": "code",
   "execution_count": 3,
   "metadata": {},
   "outputs": [],
   "source": [
    "x_train = torch.FloatTensor([[73, 80, 75],\n",
    "                             [93, 88, 93],\n",
    "                             [89, 91, 90],\n",
    "                             [96, 98, 100],\n",
    "                             [73, 66, 70]])\n",
    "y_train = torch.FloatTensor([[152], [185], [180], [196], [142]])"
   ]
  },
  {
   "cell_type": "code",
   "execution_count": 6,
   "metadata": {},
   "outputs": [],
   "source": [
    "class Net(nn.Module):\n",
    "    def __init__(self):\n",
    "        super(Net,self).__init__()\n",
    "        self.layer = nn.Linear(3,1)\n",
    "        \n",
    "    def forward(self, x):\n",
    "        x = self.layer(x)\n",
    "        return x"
   ]
  },
  {
   "cell_type": "code",
   "execution_count": 7,
   "metadata": {},
   "outputs": [],
   "source": [
    "model = Net()"
   ]
  },
  {
   "cell_type": "code",
   "execution_count": 8,
   "metadata": {},
   "outputs": [],
   "source": [
    "optimizer = torch.optim.SGD(model.parameters(), lr=1e-5)"
   ]
  },
  {
   "cell_type": "code",
   "execution_count": 9,
   "metadata": {},
   "outputs": [
    {
     "name": "stdout",
     "output_type": "stream",
     "text": [
      "   0/5000' | Cost:31667.59766\n",
      " 100/5000' | Cost:0.22599\n",
      " 200/5000' | Cost:0.22391\n",
      " 300/5000' | Cost:0.22194\n",
      " 400/5000' | Cost:0.22006\n",
      " 500/5000' | Cost:0.21827\n",
      " 600/5000' | Cost:0.21657\n",
      " 700/5000' | Cost:0.21495\n",
      " 800/5000' | Cost:0.21341\n",
      " 900/5000' | Cost:0.21195\n",
      "1000/5000' | Cost:0.21056\n",
      "1100/5000' | Cost:0.20923\n",
      "1200/5000' | Cost:0.20797\n",
      "1300/5000' | Cost:0.20676\n",
      "1400/5000' | Cost:0.20562\n",
      "1500/5000' | Cost:0.20453\n",
      "1600/5000' | Cost:0.20348\n",
      "1700/5000' | Cost:0.20249\n",
      "1800/5000' | Cost:0.20154\n",
      "1900/5000' | Cost:0.20063\n",
      "2000/5000' | Cost:0.19977\n",
      "2100/5000' | Cost:0.19894\n",
      "2200/5000' | Cost:0.19816\n",
      "2300/5000' | Cost:0.19741\n",
      "2400/5000' | Cost:0.19669\n",
      "2500/5000' | Cost:0.19600\n",
      "2600/5000' | Cost:0.19534\n",
      "2700/5000' | Cost:0.19471\n",
      "2800/5000' | Cost:0.19411\n",
      "2900/5000' | Cost:0.19354\n",
      "3000/5000' | Cost:0.19299\n",
      "3100/5000' | Cost:0.19246\n",
      "3200/5000' | Cost:0.19195\n",
      "3300/5000' | Cost:0.19146\n",
      "3400/5000' | Cost:0.19099\n",
      "3500/5000' | Cost:0.19054\n",
      "3600/5000' | Cost:0.19011\n",
      "3700/5000' | Cost:0.18970\n",
      "3800/5000' | Cost:0.18930\n",
      "3900/5000' | Cost:0.18891\n",
      "4000/5000' | Cost:0.18855\n",
      "4100/5000' | Cost:0.18819\n",
      "4200/5000' | Cost:0.18785\n",
      "4300/5000' | Cost:0.18751\n",
      "4400/5000' | Cost:0.18719\n",
      "4500/5000' | Cost:0.18689\n",
      "4600/5000' | Cost:0.18659\n",
      "4700/5000' | Cost:0.18631\n",
      "4800/5000' | Cost:0.18602\n",
      "4900/5000' | Cost:0.18576\n"
     ]
    }
   ],
   "source": [
    "nb_epochs = 5000\n",
    "for epoch in range(5000):\n",
    "    prediction = model(x_train)\n",
    "    cost = F.mse_loss(prediction, y_train)\n",
    "    optimizer.zero_grad()\n",
    "    cost.backward()\n",
    "    optimizer.step()\n",
    "    if epoch % 100 == 0:\n",
    "        print(\"{:4d}/{}' | Cost:{:.5f}\".format(\n",
    "             epoch, 5000, cost.item()\n",
    "             ))"
   ]
  },
  {
   "cell_type": "code",
   "execution_count": null,
   "metadata": {},
   "outputs": [],
   "source": []
  }
 ],
 "metadata": {
  "kernelspec": {
   "display_name": "Python 3",
   "language": "python",
   "name": "python3"
  },
  "language_info": {
   "codemirror_mode": {
    "name": "ipython",
    "version": 3
   },
   "file_extension": ".py",
   "mimetype": "text/x-python",
   "name": "python",
   "nbconvert_exporter": "python",
   "pygments_lexer": "ipython3",
   "version": "3.7.3"
  }
 },
 "nbformat": 4,
 "nbformat_minor": 4
}
