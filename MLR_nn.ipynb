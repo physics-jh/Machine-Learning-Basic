{
 "cells": [
  {
   "cell_type": "code",
   "execution_count": 1,
   "metadata": {},
   "outputs": [],
   "source": [
    "import torch\n",
    "import torch.nn as nn\n",
    "import torch.nn.functional as F"
   ]
  },
  {
   "cell_type": "code",
   "execution_count": 2,
   "metadata": {},
   "outputs": [
    {
     "data": {
      "text/plain": [
       "<torch._C.Generator at 0x20dd4948d10>"
      ]
     },
     "execution_count": 2,
     "metadata": {},
     "output_type": "execute_result"
    }
   ],
   "source": [
    "torch.manual_seed(1)"
   ]
  },
  {
   "cell_type": "code",
   "execution_count": 3,
   "metadata": {},
   "outputs": [],
   "source": [
    "# 데이터\n",
    "x_train = torch.FloatTensor([[73, 80, 75],\n",
    "                             [93, 88, 93],\n",
    "                             [89, 91, 90],\n",
    "                             [96, 98, 100],\n",
    "                             [73, 66, 70]])\n",
    "y_train = torch.FloatTensor([[152], [185], [180], [196], [142]])"
   ]
  },
  {
   "cell_type": "code",
   "execution_count": 4,
   "metadata": {},
   "outputs": [],
   "source": [
    "model = nn.Linear(3,1) # 회귀모델 선언 및 초기화(hypothesis, weight, bias, autogradient setting)"
   ]
  },
  {
   "cell_type": "code",
   "execution_count": 5,
   "metadata": {},
   "outputs": [],
   "source": [
    "optimizer = torch.optim.SGD(model.parameters(), lr=1e-5) #최적화 알고리즘 선택"
   ]
  },
  {
   "cell_type": "code",
   "execution_count": 6,
   "metadata": {},
   "outputs": [
    {
     "name": "stdout",
     "output_type": "stream",
     "text": [
      "Epoch    0/5000 | Cost:31667.59766\n",
      "Epoch  100/5000 | Cost:0.22599\n",
      "Epoch  200/5000 | Cost:0.22391\n",
      "Epoch  300/5000 | Cost:0.22194\n",
      "Epoch  400/5000 | Cost:0.22006\n",
      "Epoch  500/5000 | Cost:0.21827\n",
      "Epoch  600/5000 | Cost:0.21657\n",
      "Epoch  700/5000 | Cost:0.21495\n",
      "Epoch  800/5000 | Cost:0.21341\n",
      "Epoch  900/5000 | Cost:0.21195\n",
      "Epoch 1000/5000 | Cost:0.21056\n",
      "Epoch 1100/5000 | Cost:0.20923\n",
      "Epoch 1200/5000 | Cost:0.20797\n",
      "Epoch 1300/5000 | Cost:0.20676\n",
      "Epoch 1400/5000 | Cost:0.20562\n",
      "Epoch 1500/5000 | Cost:0.20453\n",
      "Epoch 1600/5000 | Cost:0.20348\n",
      "Epoch 1700/5000 | Cost:0.20249\n",
      "Epoch 1800/5000 | Cost:0.20154\n",
      "Epoch 1900/5000 | Cost:0.20063\n",
      "Epoch 2000/5000 | Cost:0.19977\n",
      "Epoch 2100/5000 | Cost:0.19894\n",
      "Epoch 2200/5000 | Cost:0.19816\n",
      "Epoch 2300/5000 | Cost:0.19741\n",
      "Epoch 2400/5000 | Cost:0.19669\n",
      "Epoch 2500/5000 | Cost:0.19600\n",
      "Epoch 2600/5000 | Cost:0.19534\n",
      "Epoch 2700/5000 | Cost:0.19471\n",
      "Epoch 2800/5000 | Cost:0.19411\n",
      "Epoch 2900/5000 | Cost:0.19354\n",
      "Epoch 3000/5000 | Cost:0.19299\n",
      "Epoch 3100/5000 | Cost:0.19246\n",
      "Epoch 3200/5000 | Cost:0.19195\n",
      "Epoch 3300/5000 | Cost:0.19146\n",
      "Epoch 3400/5000 | Cost:0.19099\n",
      "Epoch 3500/5000 | Cost:0.19054\n",
      "Epoch 3600/5000 | Cost:0.19011\n",
      "Epoch 3700/5000 | Cost:0.18970\n",
      "Epoch 3800/5000 | Cost:0.18930\n",
      "Epoch 3900/5000 | Cost:0.18891\n",
      "Epoch 4000/5000 | Cost:0.18855\n",
      "Epoch 4100/5000 | Cost:0.18819\n",
      "Epoch 4200/5000 | Cost:0.18785\n",
      "Epoch 4300/5000 | Cost:0.18751\n",
      "Epoch 4400/5000 | Cost:0.18719\n",
      "Epoch 4500/5000 | Cost:0.18689\n",
      "Epoch 4600/5000 | Cost:0.18659\n",
      "Epoch 4700/5000 | Cost:0.18631\n",
      "Epoch 4800/5000 | Cost:0.18602\n",
      "Epoch 4900/5000 | Cost:0.18576\n",
      "Epoch 5000/5000 | Cost:0.18549\n"
     ]
    }
   ],
   "source": [
    "nb_epochs = 5000\n",
    "for epoch in range(nb_epochs+1):\n",
    "    prediction = model(x_train)\n",
    "    cost = F.mse_loss(prediction, y_train)\n",
    "    optimizer.zero_grad()\n",
    "    cost.backward()\n",
    "    optimizer.step()\n",
    "    if epoch % 100 == 0:\n",
    "        print('Epoch {:4d}/{} | Cost:{:.5f}'.format(\n",
    "            epoch, nb_epochs, cost.item()\n",
    "        ))"
   ]
  },
  {
   "cell_type": "code",
   "execution_count": 7,
   "metadata": {},
   "outputs": [
    {
     "name": "stdout",
     "output_type": "stream",
     "text": [
      "PREDICTION: tensor([[166.6284]], grad_fn=<AddmmBackward>)\n"
     ]
    }
   ],
   "source": [
    "new_var = torch.FloatTensor([[80, 80, 90]])\n",
    "\n",
    "pred_y = model(new_var)\n",
    "print(\"PREDICTION:\", pred_y)"
   ]
  },
  {
   "cell_type": "code",
   "execution_count": null,
   "metadata": {},
   "outputs": [],
   "source": []
  }
 ],
 "metadata": {
  "kernelspec": {
   "display_name": "Python 3",
   "language": "python",
   "name": "python3"
  },
  "language_info": {
   "codemirror_mode": {
    "name": "ipython",
    "version": 3
   },
   "file_extension": ".py",
   "mimetype": "text/x-python",
   "name": "python",
   "nbconvert_exporter": "python",
   "pygments_lexer": "ipython3",
   "version": "3.7.6"
  }
 },
 "nbformat": 4,
 "nbformat_minor": 4
}
